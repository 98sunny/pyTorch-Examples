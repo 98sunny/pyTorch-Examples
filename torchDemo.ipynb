{
  "cells": [
    {
      "metadata": {
        "trusted": true
      },
      "cell_type": "code",
      "source": "import torch\nimport numpy as np",
      "execution_count": 2,
      "outputs": []
    },
    {
      "metadata": {
        "trusted": true
      },
      "cell_type": "code",
      "source": "#number\nt1=torch.tensor([1.])\nt1",
      "execution_count": 3,
      "outputs": [
        {
          "output_type": "execute_result",
          "execution_count": 3,
          "data": {
            "text/plain": "tensor([1.])"
          },
          "metadata": {}
        }
      ]
    },
    {
      "metadata": {
        "trusted": true
      },
      "cell_type": "code",
      "source": "#vector\nt2=torch.tensor([1.,2,3,4])\nt2\n#this converts all the data into one particular type\n",
      "execution_count": 4,
      "outputs": [
        {
          "output_type": "execute_result",
          "execution_count": 4,
          "data": {
            "text/plain": "tensor([1., 2., 3., 4.])"
          },
          "metadata": {}
        }
      ]
    },
    {
      "metadata": {
        "trusted": true
      },
      "cell_type": "code",
      "source": "#matrix\nt3=torch.tensor([[1,2],[3,4],[5,6]])\nt3\n\n# t3=torch.tensor([],[])\n# t1.dtype",
      "execution_count": 5,
      "outputs": [
        {
          "output_type": "execute_result",
          "execution_count": 5,
          "data": {
            "text/plain": "tensor([[1, 2],\n        [3, 4],\n        [5, 6]])"
          },
          "metadata": {}
        }
      ]
    },
    {
      "metadata": {
        "trusted": true
      },
      "cell_type": "code",
      "source": "#3d array\nt4=torch.tensor([\n    [\n        [1,2],\n        [3,4]\n    ],\n    [\n        [5,6],\n        [7,8]\n    ]\n    \n])\nt4.dtype",
      "execution_count": 6,
      "outputs": [
        {
          "output_type": "execute_result",
          "execution_count": 6,
          "data": {
            "text/plain": "torch.int64"
          },
          "metadata": {}
        }
      ]
    },
    {
      "metadata": {
        "trusted": true
      },
      "cell_type": "code",
      "source": "#the difference between that tensor can should have regular shape\nt4.shape",
      "execution_count": 7,
      "outputs": [
        {
          "output_type": "execute_result",
          "execution_count": 7,
          "data": {
            "text/plain": "torch.Size([2, 2, 2])"
          },
          "metadata": {}
        }
      ]
    },
    {
      "metadata": {
        "trusted": true
      },
      "cell_type": "code",
      "source": "#tensor operations and gradients\n#one can mmix tensors with the regular arithmetic operations\nx=torch.tensor(3.)\nw=torch.tensor(4.,requires_grad=True)\nb=torch.tensor(5.,requires_grad=True)\nsum=x*w+b\nsum\n#we can calculate derivative of any functionor a variable with respect to those variable which has the value of requires_grade set to true\n#derivative is important for an optimization algorithm called grdient descent\n\n# So,for example if we do the derivative of varible y, then the w.r.t to any input tensor will be stored in the .grad property of that particular tensor.\nsum.backward()\n#this backard method helps us to compute the derivatives of sum wrt those values which have grad value set as true\n#why do we need requires_grad?\n#this is for the optimization process, as each gradient calculation has certain cost and when we deal with large models, many parameters, each gradient calculation can make the model slow\n#gradient is other name for derivative, it is called so when we are dealing with matrices, else wen it is numbers, we call it derivative.\nprint('dsum/dx: ',x.grad)\nprint('dsum)/dw: ',w.grad)\nprint('dsum/db: ',b.grad)\n",
      "execution_count": 8,
      "outputs": [
        {
          "output_type": "stream",
          "text": "dsum/dx:  None\ndsum)/dw:  tensor(3.)\ndsum/db:  tensor(1.)\n",
          "name": "stdout"
        }
      ]
    },
    {
      "metadata": {
        "trusted": true
      },
      "cell_type": "markdown",
      "source": "#numpy has matplot for plotting and visualization, OpenCV for image and video processing, and Pandas for file input ooutput and data analysis\n#interoperability of numpy\nimport numpy as np\nx=np.array([[1,2],[3,4]])\n#conversion from numpy array to a tensor can lso be done\n# y-torch.from_numpy(x)\n\n#pytorch is for graphics\n#any code to run on GPU are to be written in kuda and pytorch is used to send the \n#data to the gpu for processing and that is the reason why we use torch instead of array.\n\n"
    },
    {
      "metadata": {
        "trusted": true
      },
      "cell_type": "code",
      "source": "# #exercise\n# a=torch.tensor([[1.,2,3],[4,5,60],[8,9,0]])\n# # b=torch.tensor(5.,requres_grad = True)\n# hello=3*a\n# hello.backward()                \n# print(\"dz/db \",b.grad)",
      "execution_count": 22,
      "outputs": [
        {
          "output_type": "error",
          "ename": "TypeError",
          "evalue": "tensor() got an unexpected keyword argument 'requres_grad'",
          "traceback": [
            "\u001b[0;31m---------------------------------------------------------------------------\u001b[0m",
            "\u001b[0;31mTypeError\u001b[0m                                 Traceback (most recent call last)",
            "\u001b[0;32m<ipython-input-22-86d88d167ac0>\u001b[0m in \u001b[0;36m<module>\u001b[0;34m\u001b[0m\n\u001b[1;32m      1\u001b[0m \u001b[0;31m#exercise\u001b[0m\u001b[0;34m\u001b[0m\u001b[0;34m\u001b[0m\u001b[0m\n\u001b[1;32m      2\u001b[0m \u001b[0ma\u001b[0m\u001b[0;34m=\u001b[0m\u001b[0mtorch\u001b[0m\u001b[0;34m.\u001b[0m\u001b[0mtensor\u001b[0m\u001b[0;34m(\u001b[0m\u001b[0;34m[\u001b[0m\u001b[0;34m[\u001b[0m\u001b[0;36m1.\u001b[0m\u001b[0;34m,\u001b[0m\u001b[0;36m2\u001b[0m\u001b[0;34m,\u001b[0m\u001b[0;36m3\u001b[0m\u001b[0;34m]\u001b[0m\u001b[0;34m,\u001b[0m\u001b[0;34m[\u001b[0m\u001b[0;36m4\u001b[0m\u001b[0;34m,\u001b[0m\u001b[0;36m5\u001b[0m\u001b[0;34m,\u001b[0m\u001b[0;36m60\u001b[0m\u001b[0;34m]\u001b[0m\u001b[0;34m,\u001b[0m\u001b[0;34m[\u001b[0m\u001b[0;36m8\u001b[0m\u001b[0;34m,\u001b[0m\u001b[0;36m9\u001b[0m\u001b[0;34m,\u001b[0m\u001b[0;36m0\u001b[0m\u001b[0;34m]\u001b[0m\u001b[0;34m]\u001b[0m\u001b[0;34m)\u001b[0m\u001b[0;34m\u001b[0m\u001b[0m\n\u001b[0;32m----> 3\u001b[0;31m \u001b[0mb\u001b[0m\u001b[0;34m=\u001b[0m\u001b[0mtorch\u001b[0m\u001b[0;34m.\u001b[0m\u001b[0mtensor\u001b[0m\u001b[0;34m(\u001b[0m\u001b[0;36m5.\u001b[0m\u001b[0;34m,\u001b[0m\u001b[0mrequres_grad\u001b[0m \u001b[0;34m=\u001b[0m \u001b[0;32mTrue\u001b[0m\u001b[0;34m)\u001b[0m\u001b[0;34m\u001b[0m\u001b[0m\n\u001b[0m\u001b[1;32m      4\u001b[0m \u001b[0mhello\u001b[0m\u001b[0;34m=\u001b[0m\u001b[0;36m3\u001b[0m\u001b[0;34m*\u001b[0m\u001b[0ma\u001b[0m\u001b[0;34m\u001b[0m\u001b[0m\n\u001b[1;32m      5\u001b[0m \u001b[0mhello\u001b[0m\u001b[0;34m.\u001b[0m\u001b[0mbackward\u001b[0m\u001b[0;34m(\u001b[0m\u001b[0;34m)\u001b[0m\u001b[0;34m\u001b[0m\u001b[0m\n",
            "\u001b[0;31mTypeError\u001b[0m: tensor() got an unexpected keyword argument 'requres_grad'"
          ]
        }
      ]
    },
    {
      "metadata": {
        "trusted": true
      },
      "cell_type": "code",
      "source": "# Code in C or Kuda is very fast so dont use lops in pyrhon, instead use torch for loop\n# The learning part of linear regression is to figure out a set of weights w11, w12,... w23, b1 & b2 by looking at the training data, \n# to make accurate predictions for new data (i.e. to predict the yields for apples and oranges in a new region using the average \n# temperature, rainfall and humidity). This is done by adjusting the \n# weights slightly many times to make better predictions, using an optimization technique called gradient descent.\n",
      "execution_count": 24,
      "outputs": []
    },
    {
      "metadata": {
        "trusted": true
      },
      "cell_type": "code",
      "source": "",
      "execution_count": null,
      "outputs": []
    }
  ],
  "metadata": {
    "kernelspec": {
      "name": "python36",
      "display_name": "Python 3.6",
      "language": "python"
    },
    "language_info": {
      "mimetype": "text/x-python",
      "nbconvert_exporter": "python",
      "name": "python",
      "pygments_lexer": "ipython3",
      "version": "3.6.6",
      "file_extension": ".py",
      "codemirror_mode": {
        "version": 3,
        "name": "ipython"
      }
    }
  },
  "nbformat": 4,
  "nbformat_minor": 2
}