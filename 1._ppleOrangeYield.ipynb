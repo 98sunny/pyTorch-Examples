{
  "cells": [
    {
      "metadata": {
        "trusted": true
      },
      "cell_type": "code",
      "source": "import numpy as np\nimport torch",
      "execution_count": 1,
      "outputs": []
    },
    {
      "metadata": {
        "trusted": true
      },
      "cell_type": "code",
      "source": "# Input (temp, rainfall, humidity)\ninputs = np.array([[73, 67, 43], \n                   [91, 88, 64], \n                   [87, 134, 58], \n                   [102, 43, 37], \n                   [69, 96, 70]], dtype='float32')",
      "execution_count": 2,
      "outputs": []
    },
    {
      "metadata": {
        "trusted": true
      },
      "cell_type": "code",
      "source": "# Targets expectations (apples, oranges)\ntargets = np.array([[56, 70], \n                    [81, 101], \n                    [119, 133], \n                    [22, 37], \n                    [103, 119]], dtype='float32')\n",
      "execution_count": 3,
      "outputs": []
    },
    {
      "metadata": {
        "trusted": true
      },
      "cell_type": "code",
      "source": "# Convert inputs and targets to tensors\ninputs = torch.from_numpy(inputs)\ntargets = torch.from_numpy(targets)\nprint(inputs)\nprint(targets)",
      "execution_count": 4,
      "outputs": [
        {
          "output_type": "stream",
          "text": "tensor([[ 73.,  67.,  43.],\n        [ 91.,  88.,  64.],\n        [ 87., 134.,  58.],\n        [102.,  43.,  37.],\n        [ 69.,  96.,  70.]])\ntensor([[ 56.,  70.],\n        [ 81., 101.],\n        [119., 133.],\n        [ 22.,  37.],\n        [103., 119.]])\n",
          "name": "stdout"
        }
      ]
    },
    {
      "metadata": {
        "trusted": true
      },
      "cell_type": "code",
      "source": "# creating random number of Weights and biases\nw = torch.randn(2, 3, requires_grad=True)\nb = torch.randn(2, requires_grad=True)\nprint(w)\nprint(b)\n        ",
      "execution_count": 5,
      "outputs": [
        {
          "output_type": "stream",
          "text": "tensor([[-0.6152,  0.7633,  2.3728],\n        [ 0.3711, -1.0946, -1.0055]], requires_grad=True)\ntensor([-0.9298, -0.5687], requires_grad=True)\n",
          "name": "stdout"
        }
      ]
    },
    {
      "metadata": {
        "trusted": true
      },
      "cell_type": "code",
      "source": "# Our model is simply a function that performs a matrix multiplication of the inputs and the \n# weights w (transposed) and adds the bias b (replicated for each observation).\n#the formula we use for linear regression: MATRIX x Weight_Transpose + Bias",
      "execution_count": 6,
      "outputs": []
    },
    {
      "metadata": {
        "trusted": true
      },
      "cell_type": "code",
      "source": "def model(x):\n    return x @ w.t() + b",
      "execution_count": 7,
      "outputs": []
    },
    {
      "metadata": {
        "trusted": true
      },
      "cell_type": "code",
      "source": "#generation of prediction\n# Generate predictions\npreds = model(inputs)\nprint(preds)",
      "execution_count": 8,
      "outputs": [
        {
          "output_type": "stream",
          "text": "tensor([[ 107.3314,  -90.0563],\n        [ 162.1153, -127.4797],\n        [ 185.4505, -173.2840],\n        [  56.9360,  -46.9900],\n        [ 195.9920, -150.4342]], grad_fn=<AddBackward0>)\n",
          "name": "stdout"
        }
      ]
    },
    {
      "metadata": {
        "trusted": true
      },
      "cell_type": "code",
      "source": "# Compare with targets\nprint(targets)",
      "execution_count": 9,
      "outputs": [
        {
          "output_type": "stream",
          "text": "tensor([[ 56.,  70.],\n        [ 81., 101.],\n        [119., 133.],\n        [ 22.,  37.],\n        [103., 119.]])\n",
          "name": "stdout"
        }
      ]
    },
    {
      "metadata": {
        "trusted": true
      },
      "cell_type": "code",
      "source": "# Calculate the difference between the two matrices (preds and targets).\n# Square all elements of the difference matrix to remove negative values.\n# Calculate the average of the elements in the resulting matrix.\n\n# MSE loss\ndef mse(t1, t2):\n    diff = t1 - t2\n    return torch.sum(diff * diff) / diff.numel()",
      "execution_count": 10,
      "outputs": []
    },
    {
      "metadata": {
        "trusted": true
      },
      "cell_type": "code",
      "source": "# Compute loss\nloss = mse(preds, targets)\nprint(loss)",
      "execution_count": 11,
      "outputs": [
        {
          "output_type": "stream",
          "text": "tensor(27477.8281, grad_fn=<DivBackward0>)\n",
          "name": "stdout"
        }
      ]
    },
    {
      "metadata": {
        "trusted": true
      },
      "cell_type": "code",
      "source": "# Compute gradients\nloss.backward()",
      "execution_count": 12,
      "outputs": []
    },
    {
      "metadata": {
        "trusted": true
      },
      "cell_type": "code",
      "source": "# Gradients for weights\nprint(w)\nprint(w.grad)\n",
      "execution_count": 14,
      "outputs": [
        {
          "output_type": "stream",
          "text": "tensor([[-0.6152,  0.7633,  2.3728],\n        [ 0.3711, -1.0946, -1.0055]], requires_grad=True)\ntensor([[  5377.9609,   5982.2402,   3810.9668],\n        [-17256.0820, -20269.8574, -12247.5234]])\n",
          "name": "stdout"
        }
      ]
    },
    {
      "metadata": {
        "trusted": true
      },
      "cell_type": "code",
      "source": "w.grad.zero_()\nb.grad.zero_()\nprint(w.grad)\nprint(b.grad)",
      "execution_count": 16,
      "outputs": [
        {
          "output_type": "stream",
          "text": "tensor([[0., 0., 0.],\n        [0., 0., 0.]])\ntensor([0., 0.])\n",
          "name": "stdout"
        }
      ]
    },
    {
      "metadata": {
        "trusted": true
      },
      "cell_type": "code",
      "source": "# Steps which we will follow\n# Generate predictions\n# Calculate the loss\n# Compute gradients w.r.t the weights and biases\n# Adjust the weights by subtracting a small quantity proportional to the gradient\n# Reset the gradients to zero\n\npreds = model(inputs)\nprint(preds)",
      "execution_count": 18,
      "outputs": [
        {
          "output_type": "stream",
          "text": "tensor([[ 107.3314,  -90.0563],\n        [ 162.1153, -127.4797],\n        [ 185.4505, -173.2840],\n        [  56.9360,  -46.9900],\n        [ 195.9920, -150.4342]], grad_fn=<AddBackward0>)\n",
          "name": "stdout"
        }
      ]
    },
    {
      "metadata": {
        "trusted": true
      },
      "cell_type": "code",
      "source": "# Calculate the loss\nloss = mse(preds, targets)\nprint(loss)\n",
      "execution_count": 20,
      "outputs": [
        {
          "output_type": "stream",
          "text": "tensor(27477.8281, grad_fn=<DivBackward0>)\n",
          "name": "stdout"
        }
      ]
    },
    {
      "metadata": {
        "trusted": true
      },
      "cell_type": "code",
      "source": "# Adjust weights & reset gradients\nwith torch.no_grad():\n    w -= w.grad * 1e-5\n    b -= b.grad * 1e-5\n    w.grad.zero_()\n    b.grad.zero_()",
      "execution_count": 23,
      "outputs": []
    },
    {
      "metadata": {
        "trusted": true
      },
      "cell_type": "code",
      "source": "print(w)\nprint(b)",
      "execution_count": 25,
      "outputs": [
        {
          "output_type": "stream",
          "text": "tensor([[-0.6690,  0.7035,  2.3347],\n        [ 0.5437, -0.8919, -0.8831]], requires_grad=True)\ntensor([-0.9304, -0.5666], requires_grad=True)\n",
          "name": "stdout"
        }
      ]
    },
    {
      "metadata": {
        "trusted": true
      },
      "cell_type": "code",
      "source": "# Calculate loss\npreds = model(inputs)\nloss = mse(preds, targets)\nprint(loss)",
      "execution_count": 27,
      "outputs": [
        {
          "output_type": "stream",
          "text": "tensor(18937.2031, grad_fn=<DivBackward0>)\n",
          "name": "stdout"
        }
      ]
    },
    {
      "metadata": {
        "trusted": true
      },
      "cell_type": "code",
      "source": "# Train for 100 epochs\nfor i in range(100):\n    preds = model(inputs)\n    loss = mse(preds, targets)\n    loss.backward()\n    with torch.no_grad():\n        w -= w.grad * 1e-5\n        b -= b.grad * 1e-5\n        w.grad.zero_()\n        b.grad.zero_()",
      "execution_count": 30,
      "outputs": []
    },
    {
      "metadata": {
        "trusted": true
      },
      "cell_type": "code",
      "source": "# Calculate loss\npreds = model(inputs)\nloss = mse(preds, targets)\nprint(loss)",
      "execution_count": 32,
      "outputs": [
        {
          "output_type": "stream",
          "text": "tensor(132.9949, grad_fn=<DivBackward0>)\n",
          "name": "stdout"
        }
      ]
    },
    {
      "metadata": {
        "trusted": true
      },
      "cell_type": "code",
      "source": "# Predictions\npreds",
      "execution_count": 34,
      "outputs": [
        {
          "output_type": "execute_result",
          "execution_count": 34,
          "data": {
            "text/plain": "tensor([[ 55.7436,  73.1533],\n        [ 90.3497,  96.1776],\n        [102.4561, 138.6016],\n        [ 14.6453,  53.4491],\n        [119.6579, 101.6208]], grad_fn=<AddBackward0>)"
          },
          "metadata": {}
        }
      ]
    },
    {
      "metadata": {
        "trusted": true
      },
      "cell_type": "code",
      "source": "# Targets\ntargets",
      "execution_count": 44,
      "outputs": [
        {
          "output_type": "execute_result",
          "execution_count": 44,
          "data": {
            "text/plain": "tensor([[ 56.,  70.],\n        [ 81., 101.],\n        [119., 133.],\n        [ 22.,  37.],\n        [103., 119.],\n        [ 56.,  70.],\n        [ 81., 101.],\n        [119., 133.],\n        [ 22.,  37.],\n        [103., 119.],\n        [ 56.,  70.],\n        [ 81., 101.],\n        [119., 133.],\n        [ 22.,  37.],\n        [103., 119.]])"
          },
          "metadata": {}
        }
      ]
    },
    {
      "metadata": {
        "trusted": true
      },
      "cell_type": "code",
      "source": "# Doing the same thing with pytorch libraries\n# Input (temp, rainfall, humidity)\nimport torch.nn as nn\ninputs = np.array([[73, 67, 43], [91, 88, 64], [87, 134, 58], \n                   [102, 43, 37], [69, 96, 70], [73, 67, 43], \n                   [91, 88, 64], [87, 134, 58], [102, 43, 37], \n                   [69, 96, 70], [73, 67, 43], [91, 88, 64], \n                   [87, 134, 58], [102, 43, 37], [69, 96, 70]], \n                  dtype='float32')\n\n# Targets (apples, oranges)\ntargets = np.array([[56, 70], [81, 101], [119, 133], \n                    [22, 37], [103, 119], [56, 70], \n                    [81, 101], [119, 133], [22, 37], \n                    [103, 119], [56, 70], [81, 101], \n                    [119, 133], [22, 37], [103, 119]], \n                   dtype='float32')\n\ninputs = torch.from_numpy(inputs)\ntargets = torch.from_numpy(targets)",
      "execution_count": 45,
      "outputs": []
    },
    {
      "metadata": {
        "trusted": true
      },
      "cell_type": "code",
      "source": "from torch.utils.data import TensorDataset\n# Define dataset\ntrain_ds = TensorDataset(inputs, targets)\ntrain_ds[0:3]\n",
      "execution_count": 40,
      "outputs": [
        {
          "output_type": "execute_result",
          "execution_count": 40,
          "data": {
            "text/plain": "(tensor([[ 73.,  67.,  43.],\n         [ 91.,  88.,  64.],\n         [ 87., 134.,  58.]]), tensor([[ 56.,  70.],\n         [ 81., 101.],\n         [119., 133.]]))"
          },
          "metadata": {}
        }
      ]
    },
    {
      "metadata": {
        "trusted": true
      },
      "cell_type": "code",
      "source": "from torch.utils.data import DataLoader\n# Define data loader\nbatch_size = 5\ntrain_dl = DataLoader(train_ds, batch_size, shuffle=True)",
      "execution_count": 41,
      "outputs": []
    },
    {
      "metadata": {
        "trusted": true
      },
      "cell_type": "code",
      "source": "for xb, yb in train_dl:\n    print(xb)\n    print(yb)\n    break",
      "execution_count": 42,
      "outputs": [
        {
          "output_type": "stream",
          "text": "tensor([[ 91.,  88.,  64.],\n        [102.,  43.,  37.],\n        [ 87., 134.,  58.],\n        [ 69.,  96.,  70.],\n        [ 73.,  67.,  43.]])\ntensor([[ 81., 101.],\n        [ 22.,  37.],\n        [119., 133.],\n        [103., 119.],\n        [ 56.,  70.]])\n",
          "name": "stdout"
        }
      ]
    },
    {
      "metadata": {
        "trusted": true
      },
      "cell_type": "code",
      "source": "# Define model\nmodel = nn.Linear(3, 2)\nprint(model.weight)\nprint(model.bias)",
      "execution_count": 46,
      "outputs": [
        {
          "output_type": "stream",
          "text": "Parameter containing:\ntensor([[-0.0944, -0.1038, -0.4182],\n        [ 0.0789, -0.2688, -0.2269]], requires_grad=True)\nParameter containing:\ntensor([-0.4457,  0.1728], requires_grad=True)\n",
          "name": "stdout"
        }
      ]
    },
    {
      "metadata": {
        "trusted": true
      },
      "cell_type": "code",
      "source": "list(model.parameters())\n",
      "execution_count": 48,
      "outputs": [
        {
          "output_type": "execute_result",
          "execution_count": 48,
          "data": {
            "text/plain": "[Parameter containing:\n tensor([[-0.0944, -0.1038, -0.4182],\n         [ 0.0789, -0.2688, -0.2269]], requires_grad=True),\n Parameter containing:\n tensor([-0.4457,  0.1728], requires_grad=True)]"
          },
          "metadata": {}
        }
      ]
    },
    {
      "metadata": {
        "trusted": true
      },
      "cell_type": "code",
      "source": "# Generate predictions\npreds = model(inputs)\npreds",
      "execution_count": 50,
      "outputs": [
        {
          "output_type": "execute_result",
          "execution_count": 50,
          "data": {
            "text/plain": "tensor([[-32.2712, -21.8291],\n        [-44.9311, -30.8174],\n        [-46.8172, -42.1359],\n        [-30.0105, -11.7274],\n        [-46.1927, -36.0659],\n        [-32.2712, -21.8291],\n        [-44.9311, -30.8174],\n        [-46.8172, -42.1359],\n        [-30.0105, -11.7274],\n        [-46.1927, -36.0659],\n        [-32.2712, -21.8291],\n        [-44.9311, -30.8174],\n        [-46.8172, -42.1359],\n        [-30.0105, -11.7274],\n        [-46.1927, -36.0659]], grad_fn=<AddmmBackward>)"
          },
          "metadata": {}
        }
      ]
    },
    {
      "metadata": {
        "trusted": true
      },
      "cell_type": "code",
      "source": "# Import nn.functional\nimport torch.nn.functional as F",
      "execution_count": 51,
      "outputs": []
    },
    {
      "metadata": {
        "trusted": true
      },
      "cell_type": "code",
      "source": "# Define loss function\nloss_fn = F.mse_loss",
      "execution_count": 52,
      "outputs": []
    },
    {
      "metadata": {
        "trusted": true
      },
      "cell_type": "code",
      "source": "loss = loss_fn(model(inputs), targets)\nprint(loss)",
      "execution_count": 53,
      "outputs": [
        {
          "output_type": "stream",
          "text": "tensor(15901.0137, grad_fn=<MseLossBackward>)\n",
          "name": "stdout"
        }
      ]
    },
    {
      "metadata": {
        "trusted": true
      },
      "cell_type": "code",
      "source": "# Define optimizer\nopt = torch.optim.SGD(model.parameters(), lr=1e-5)",
      "execution_count": 54,
      "outputs": []
    },
    {
      "metadata": {
        "trusted": true
      },
      "cell_type": "code",
      "source": "# Utility function to train the model\ndef fit(num_epochs, model, loss_fn, opt):\n    \n    # Repeat for given number of epochs\n    for epoch in range(num_epochs):\n        \n        # Train with batches of data\n        for xb,yb in train_dl:\n            \n            # 1. Generate predictions\n            pred = model(xb)\n            \n            # 2. Calculate loss\n            loss = loss_fn(pred, yb)\n            \n            # 3. Compute gradients\n            loss.backward()\n            \n            # 4. Update parameters using gradients\n            opt.step()\n            \n            # 5. Reset the gradients to zero\n            opt.zero_grad()\n        \n        # Print the progress\n        if (epoch+1) % 10 == 0:\n            print('Epoch [{}/{}], Loss: {:.4f}'.format(epoch+1, num_epochs, loss.item()))",
      "execution_count": 55,
      "outputs": []
    },
    {
      "metadata": {
        "trusted": true
      },
      "cell_type": "code",
      "source": "fit(100, model, loss_fn, opt)",
      "execution_count": 56,
      "outputs": [
        {
          "output_type": "stream",
          "text": "Epoch [10/100], Loss: 412.9157\nEpoch [20/100], Loss: 449.6605\nEpoch [30/100], Loss: 419.1114\nEpoch [40/100], Loss: 76.8454\nEpoch [50/100], Loss: 58.8452\nEpoch [60/100], Loss: 7.2671\nEpoch [70/100], Loss: 45.7068\nEpoch [80/100], Loss: 61.9697\nEpoch [90/100], Loss: 32.1372\nEpoch [100/100], Loss: 8.2949\n",
          "name": "stdout"
        }
      ]
    },
    {
      "metadata": {
        "trusted": true
      },
      "cell_type": "code",
      "source": "# Generate predictions\npreds = model(inputs)\npreds",
      "execution_count": 57,
      "outputs": [
        {
          "output_type": "execute_result",
          "execution_count": 57,
          "data": {
            "text/plain": "tensor([[ 58.7486,  72.1949],\n        [ 79.5041,  98.0627],\n        [123.0839, 136.9028],\n        [ 29.7078,  46.5847],\n        [ 92.0397, 108.9762],\n        [ 58.7486,  72.1949],\n        [ 79.5041,  98.0627],\n        [123.0839, 136.9028],\n        [ 29.7078,  46.5847],\n        [ 92.0397, 108.9762],\n        [ 58.7486,  72.1949],\n        [ 79.5041,  98.0627],\n        [123.0839, 136.9028],\n        [ 29.7078,  46.5847],\n        [ 92.0397, 108.9762]], grad_fn=<AddmmBackward>)"
          },
          "metadata": {}
        }
      ]
    },
    {
      "metadata": {
        "trusted": true
      },
      "cell_type": "code",
      "source": "# Compare with targets\ntargets",
      "execution_count": 58,
      "outputs": [
        {
          "output_type": "execute_result",
          "execution_count": 58,
          "data": {
            "text/plain": "tensor([[ 56.,  70.],\n        [ 81., 101.],\n        [119., 133.],\n        [ 22.,  37.],\n        [103., 119.],\n        [ 56.,  70.],\n        [ 81., 101.],\n        [119., 133.],\n        [ 22.,  37.],\n        [103., 119.],\n        [ 56.,  70.],\n        [ 81., 101.],\n        [119., 133.],\n        [ 22.,  37.],\n        [103., 119.]])"
          },
          "metadata": {}
        }
      ]
    },
    {
      "metadata": {
        "trusted": true
      },
      "cell_type": "code",
      "source": "",
      "execution_count": null,
      "outputs": []
    }
  ],
  "metadata": {
    "kernelspec": {
      "name": "python36",
      "display_name": "Python 3.6",
      "language": "python"
    },
    "language_info": {
      "mimetype": "text/x-python",
      "nbconvert_exporter": "python",
      "name": "python",
      "pygments_lexer": "ipython3",
      "version": "3.6.6",
      "file_extension": ".py",
      "codemirror_mode": {
        "version": 3,
        "name": "ipython"
      }
    }
  },
  "nbformat": 4,
  "nbformat_minor": 2
}